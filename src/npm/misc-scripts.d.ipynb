{
 "cells": [
  {
   "cell_type": "markdown",
   "metadata": {},
   "source": [
    "All text cells Copyright (c) npm, Inc. and Contributors All rights reserved.\n",
    "\n",
    "see [https://www.npmjs.com/policies/npm-license](https://www.npmjs.com/policies/npm-license)\n",
    "\n",
    "All code cells under this package LICENSE."
   ]
  },
  {
   "cell_type": "markdown",
   "metadata": {},
   "source": [
    "# [npm-scripts](https://docs.npmjs.com/misc/scripts.htm)\n",
    "\n",
    "# How npm handles the \"scripts\" field"
   ]
  },
  {
   "cell_type": "markdown",
   "metadata": {},
   "source": [
    "## DESCRIPTION\n",
    "\n",
    "npm supports the “scripts” property of the package.json file, for the following scripts:\n",
    "\n",
    "*   prepublish: Run BEFORE the package is packed and published, as well as on local `npm install` without any arguments. (See below)\n",
    "*   prepare: Run both BEFORE the package is packed and published, on local `npm install` without any arguments, and when installing git dependencies (See below). This is run AFTER `prepublish`, but BEFORE `prepublishOnly`.\n",
    "*   prepublishOnly: Run BEFORE the package is prepared and packed, ONLY on `npm publish`. (See below.)\n",
    "*   prepack: run BEFORE a tarball is packed (on `npm pack`, `npm publish`, and when installing git dependencies)\n",
    "*   postpack: Run AFTER the tarball has been generated and moved to its final destination.\n",
    "*   publish, postpublish: Run AFTER the package is published.\n",
    "*   preinstall: Run BEFORE the package is installed\n",
    "*   install, postinstall: Run AFTER the package is installed.\n",
    "*   preuninstall, uninstall: Run BEFORE the package is uninstalled.\n",
    "*   postuninstall: Run AFTER the package is uninstalled.\n",
    "*   preversion: Run BEFORE bumping the package version.\n",
    "*   version: Run AFTER bumping the package version, but BEFORE commit.\n",
    "*   postversion: Run AFTER bumping the package version, and AFTER commit.\n",
    "*   pretest, test, posttest: Run by the `npm test` command.\n",
    "*   prestop, stop, poststop: Run by the `npm stop` command.\n",
    "*   prestart, start, poststart: Run by the `npm start` command.\n",
    "*   prerestart, restart, postrestart: Run by the `npm restart` command. Note: `npm restart` will run the stop and start scripts if no `restart` script is provided.\n",
    "*   preshrinkwrap, shrinkwrap, postshrinkwrap: Run by the `npm shrinkwrap` command.\n",
    "\n",
    "Additionally, arbitrary scripts can be executed by running `npm run-script <stage>`. _Pre_ and _post_ commands with matching names will be run for those as well (e.g. `premyscript`, `myscript`, `postmyscript`). Scripts from dependencies can be run with `npm explore <pkg> -- npm run <stage>`."
   ]
  },
  {
   "cell_type": "code",
   "execution_count": 1,
   "metadata": {},
   "outputs": [
    {
     "data": {
      "text/plain": [
       "undefined"
      ]
     },
     "execution_count": 1,
     "metadata": {},
     "output_type": "execute_result"
    }
   ],
   "source": [
    "export interface Scripts {\n",
    "    prepublish?: string;\n",
    "    prepare?: string;\n",
    "    prepublishOnly?: string;\n",
    "    prepack?: string;\n",
    "    postpack?: string;\n",
    "    publish?: string;\n",
    "    postpublish?: string;\n",
    "    preinstall?: string;\n",
    "    install?: string;\n",
    "    postinstall?: string;\n",
    "    preuninstall?: string;\n",
    "    uninstall?: string;\n",
    "    postuninstall?: string;\n",
    "    preversion?: string;\n",
    "    version?: string;\n",
    "    postversion?: string;\n",
    "    pretest?: string;\n",
    "    test: string;\n",
    "    posttest?: string;\n",
    "    prestop?: string;\n",
    "    stop?: string;\n",
    "    poststop?: string;\n",
    "    prestart?: string;\n",
    "    start?: string;\n",
    "    poststart?: string;\n",
    "    prerestart?: string;\n",
    "    restart?: string;\n",
    "    postrestart?: string;\n",
    "    preshrinkwrap?: string;\n",
    "    shrinkwrap?: string;\n",
    "    postshrinkwrap?: string;\n",
    "    [k: string]: string | undefined;\n",
    "}"
   ]
  },
  {
   "cell_type": "markdown",
   "metadata": {},
   "source": [
    "## PREPUBLISH AND PREPARE\n",
    "\n",
    "### DEPRECATION NOTE\n",
    "\n",
    "Since `npm@1.1.71`, the npm CLI has run the `prepublish` script for both `npm publish` and `npm install`, because it’s a convenient way to prepare a package for use (some common use cases are described in the section below). It has also turned out to be, in practice, [very confusing](https://github.com/npm/npm/issues/10074). As of `npm@4.0.0`, a new event has been introduced, `prepare`, that preserves this existing behavior. A _new_ event, `prepublishOnly` has been added as a transitional strategy to allow users to avoid the confusing behavior of existing npm versions and only run on `npm publish` (for instance, running the tests one last time to ensure they’re in good shape).\n",
    "\n",
    "See [https://github.com/npm/npm/issues/10074](https://github.com/npm/npm/issues/10074) for a much lengthier justification, with further reading, for this change.\n",
    "\n",
    "### USE CASES\n",
    "\n",
    "If you need to perform operations on your package before it is used, in a way that is not dependent on the operating system or architecture of the target system, use a `prepublish` script. This includes tasks such as:\n",
    "\n",
    "*   Compiling CoffeeScript source code into JavaScript.\n",
    "*   Creating minified versions of JavaScript source code.\n",
    "*   Fetching remote resources that your package will use.\n",
    "\n",
    "The advantage of doing these things at `prepublish` time is that they can be done once, in a single place, thus reducing complexity and variability. Additionally, this means that:\n",
    "\n",
    "*   You can depend on `coffee-script` as a `devDependency`, and thus your users don’t need to have it installed.\n",
    "*   You don’t need to include minifiers in your package, reducing the size for your users.\n",
    "*   You don’t need to rely on your users having `curl` or `wget` or other system tools on the target machines."
   ]
  },
  {
   "cell_type": "markdown",
   "metadata": {},
   "source": [
    "## DEFAULT VALUES\n",
    "\n",
    "npm will default some script values based on package contents.\n",
    "\n",
    "*   `\"start\": \"node server.js\"`:\n",
    "    \n",
    "    If there is a `server.js` file in the root of your package, then npm will default the `start` command to `node server.js`.\n",
    "    \n",
    "*   `\"install\": \"node-gyp rebuild\"`:\n",
    "    \n",
    "    If there is a `binding.gyp` file in the root of your package and you haven’t defined your own `install` or `preinstall` scripts, npm will default the `install` command to compile using node-gyp."
   ]
  },
  {
   "cell_type": "markdown",
   "metadata": {},
   "source": [
    "## USER\n",
    "\n",
    "If npm was invoked with root privileges, then it will change the uid to the user account or uid specified by the `user` config, which defaults to `nobody`. Set the `unsafe-perm` flag to run scripts with root privileges."
   ]
  },
  {
   "cell_type": "markdown",
   "metadata": {},
   "source": [
    "## ENVIRONMENT\n",
    "\n",
    "Package scripts run in an environment where many pieces of information are made available regarding the setup of npm and the current state of the process.\n",
    "\n",
    "### path\n",
    "\n",
    "If you depend on modules that define executable scripts, like test suites, then those executables will be added to the `PATH` for executing the scripts. So, if your package.json has this:\n",
    "\n",
    "    { \"name\" : \"foo\"\n",
    "    , \"dependencies\" : { \"bar\" : \"0.1.x\" }\n",
    "    , \"scripts\": { \"start\" : \"bar ./test\" } }\n",
    "    \n",
    "\n",
    "then you could run `npm start` to execute the `bar` script, which is exported into the `node_modules/.bin` directory on `npm install`.\n",
    "\n",
    "### package.json vars\n",
    "\n",
    "The package.json fields are tacked onto the `npm_package_` prefix. So, for instance, if you had `{\"name\":\"foo\", \"version\":\"1.2.5\"}` in your package.json file, then your package scripts would have the `npm_package_name` environment variable set to “foo”, and the `npm_package_version` set to “1.2.5”. You can access these variables in your code with `process.env.npm_package_name` and `process.env.npm_package_version`, and so on for other fields.\n",
    "\n",
    "### configuration\n",
    "\n",
    "Configuration parameters are put in the environment with the `npm_config_` prefix. For instance, you can view the effective `root` config by checking the `npm_config_root` environment variable.\n",
    "\n",
    "### Special: package.json “config” object\n",
    "\n",
    "The package.json “config” keys are overwritten in the environment if there is a config param of `<name>[@<version>]:<key>`. For example, if the package.json has this:\n",
    "\n",
    "    { \"name\" : \"foo\"\n",
    "    , \"config\" : { \"port\" : \"8080\" }\n",
    "    , \"scripts\" : { \"start\" : \"node server.js\" } }\n",
    "    \n",
    "\n",
    "and the server.js is this:\n",
    "\n",
    "    http.createServer(...).listen(process.env.npm_package_config_port)\n",
    "    \n",
    "\n",
    "then the user could change the behavior by doing:\n",
    "\n",
    "    npm config set foo:port 80\n",
    "    \n",
    "\n",
    "### current lifecycle event\n",
    "\n",
    "Lastly, the `npm_lifecycle_event` environment variable is set to whichever stage of the cycle is being executed. So, you could have a single script used for different parts of the process which switches based on what’s currently happening.\n",
    "\n",
    "Objects are flattened following this format, so if you had `{\"scripts\":{\"install\":\"foo.js\"}}` in your package.json, then you’d see this in the script:\n",
    "\n",
    "    process.env.npm_package_scripts_install === \"foo.js\"\n",
    "    "
   ]
  },
  {
   "cell_type": "markdown",
   "metadata": {},
   "source": [
    "## EXAMPLES\n",
    "\n",
    "For example, if your package.json contains this:\n",
    "\n",
    "    { \"scripts\" :\n",
    "      { \"install\" : \"scripts/install.js\"\n",
    "      , \"postinstall\" : \"scripts/install.js\"\n",
    "      , \"uninstall\" : \"scripts/uninstall.js\"\n",
    "      }\n",
    "    }\n",
    "    \n",
    "\n",
    "then `scripts/install.js` will be called for the install and post-install stages of the lifecycle, and `scripts/uninstall.js` will be called when the package is uninstalled. Since `scripts/install.js` is running for two different phases, it would be wise in this case to look at the `npm_lifecycle_event` environment variable.\n",
    "\n",
    "If you want to run a make command, you can do so. This works just fine:\n",
    "\n",
    "    { \"scripts\" :\n",
    "      { \"preinstall\" : \"./configure\"\n",
    "      , \"install\" : \"make && make install\"\n",
    "      , \"test\" : \"make test\"\n",
    "      }\n",
    "    }\n",
    "    "
   ]
  },
  {
   "cell_type": "markdown",
   "metadata": {},
   "source": [
    "## EXITING\n",
    "\n",
    "Scripts are run by passing the line as a script argument to `sh`.\n",
    "\n",
    "If the script exits with a code other than 0, then this will abort the process.\n",
    "\n",
    "Note that these script files don’t have to be nodejs or even javascript programs. They just have to be some kind of executable file."
   ]
  },
  {
   "cell_type": "markdown",
   "metadata": {},
   "source": [
    "## HOOK SCRIPTS\n",
    "\n",
    "If you want to run a specific script at a specific lifecycle event for ALL packages, then you can use a hook script.\n",
    "\n",
    "Place an executable file at `node_modules/.hooks/{eventname}`, and it’ll get run for all packages when they are going through that point in the package lifecycle for any packages installed in that root.\n",
    "\n",
    "Hook scripts are run exactly the same way as package.json scripts. That is, they are in a separate child process, with the env described above."
   ]
  },
  {
   "cell_type": "markdown",
   "metadata": {},
   "source": [
    "## BEST PRACTICES\n",
    "\n",
    "*   Don’t exit with a non-zero error code unless you _really_ mean it. Except for uninstall scripts, this will cause the npm action to fail, and potentially be rolled back. If the failure is minor or only will prevent some optional features, then it’s better to just print a warning and exit successfully.\n",
    "*   Try not to use scripts to do what npm can do for you. Read through [package.json](https://docs.npmjs.com/files/package.json) to see all the things that you can specify and enable by simply describing your package appropriately. In general, this will lead to a more robust and consistent state.\n",
    "*   Inspect the env to determine where to put things. For instance, if the `npm_config_binroot` environment variable is set to `/home/user/bin`, then don’t try to install executables into `/usr/local/bin`. The user probably set it up that way for a reason.\n",
    "*   Don’t prefix your script commands with “sudo”. If root permissions are required for some reason, then it’ll fail with that error, and the user will sudo the npm command in question.\n",
    "*   Don’t use `install`. Use a `.gyp` file for compilation, and `prepublish` for anything else. You should almost never have to explicitly set a preinstall or install script. If you are doing this, please consider if there is another option. The only valid use of `install` or `preinstall` scripts is for compilation which must be done on the target architecture."
   ]
  }
 ],
 "metadata": {
  "kernelspec": {
   "display_name": "Typescript 3.4",
   "language": "typescript",
   "name": "typescript"
  },
  "language_info": {
   "file_extension": ".ts",
   "mimetype": "application/x-typescript",
   "name": "typescript",
   "version": "3.4.5"
  }
 },
 "nbformat": 4,
 "nbformat_minor": 2
}
