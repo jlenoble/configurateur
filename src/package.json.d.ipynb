{
 "cells": [
  {
   "cell_type": "markdown",
   "metadata": {},
   "source": [
    "All text cells Copyright (c) npm, Inc. and Contributors All rights reserved.\n",
    "\n",
    "see [https://www.npmjs.com/policies/npm-license](https://www.npmjs.com/policies/npm-license)\n",
    "\n",
    "All code cells under this package LICENSE."
   ]
  },
  {
   "cell_type": "markdown",
   "metadata": {
    "scrolled": true
   },
   "source": [
    "# [npm-package.json](https://docs.npmjs.com/files/package.json)\n",
    "\n",
    "# Specifics of npm's package.json handling"
   ]
  },
  {
   "cell_type": "markdown",
   "metadata": {
    "scrolled": true
   },
   "source": [
    "# DESCRIPTION\n",
    "\n",
    "This document is all you need to know about what’s required in your package.json file. It must be actual JSON, not just a JavaScript object literal.\n",
    "\n",
    "A lot of the behavior described in this document is affected by the config settings described in [npm-config](https://docs.npmjs.com/misc/config)."
   ]
  },
  {
   "cell_type": "markdown",
   "metadata": {
    "scrolled": true
   },
   "source": [
    "## name\n",
    "\n",
    "If you plan to publish your package, the _most_ important things in your package.json are the name and version fields as they will be required. The name and version together form an identifier that is assumed to be completely unique. Changes to the package should come along with changes to the version. If you don’t plan to publish your package, the name and version fields are optional.\n",
    "\n",
    "The name is what your thing is called.\n",
    "\n",
    "Some rules:\n",
    "\n",
    "* The name must be less than or equal to 214 characters. This includes the scope for scoped packages.\n",
    "* The name can’t start with a dot or an underscore.\n",
    "* New packages must not have uppercase letters in the name.\n",
    "* The name ends up being part of a URL, an argument on the command line, and a folder name. Therefore, the name can’t contain any non-URL-safe characters.\n",
    "\n",
    "Some tips:\n",
    "\n",
    "* Don’t use the same name as a core Node module.\n",
    "* Don’t put “js” or “node” in the name. It’s assumed that it’s js, since you’re writing a package.json file, and you can specify the engine using the “engines” field. (See below.)\n",
    "* The name will probably be passed as an argument to require(), so it should be something short, but also reasonably descriptive.\n",
    "* You may want to check the npm registry to see if there’s something by that name already, before you get too attached to it. [https://www.npmjs.com/](https://www.npmjs.com/)\n",
    "\n",
    "A name can be optionally prefixed by a scope, e.g. `@myorg/mypackage`. See [npm-scope](https://docs.npmjs.com/misc/scope) for more detail."
   ]
  },
  {
   "cell_type": "code",
   "execution_count": 1,
   "metadata": {},
   "outputs": [
    {
     "data": {
      "text/plain": [
       "'use strict'"
      ]
     },
     "execution_count": 1,
     "metadata": {},
     "output_type": "execute_result"
    }
   ],
   "source": [
    "type PackageName = string;"
   ]
  },
  {
   "cell_type": "markdown",
   "metadata": {
    "scrolled": true
   },
   "source": [
    "## version\n",
    "\n",
    "If you plan to publish your package, the _most_ important things in your package.json are the name and version fields as they will be required. The name and version together form an identifier that is assumed to be completely unique. Changes to the package should come along with changes to the version. If you don’t plan to publish your package, the name and version fields are optional.\n",
    "\n",
    "Version must be parseable by [node-semver](https://github.com/isaacs/node-semver), which is bundled with npm as a dependency. (`npm install semver` to use it yourself.)\n",
    "\n",
    "More on version numbers and ranges at [semver](https://docs.npmjs.com/misc/semver)."
   ]
  },
  {
   "cell_type": "code",
   "execution_count": 2,
   "metadata": {},
   "outputs": [
    {
     "data": {
      "text/plain": [
       "undefined"
      ]
     },
     "execution_count": 2,
     "metadata": {},
     "output_type": "execute_result"
    }
   ],
   "source": [
    "type PackageVersion = string;"
   ]
  },
  {
   "cell_type": "markdown",
   "metadata": {
    "scrolled": true
   },
   "source": [
    "## description\n",
    "\n",
    "Put a description in it. It’s a string. This helps people discover your package, as it’s listed in `npm search`."
   ]
  },
  {
   "cell_type": "code",
   "execution_count": 3,
   "metadata": {},
   "outputs": [
    {
     "data": {
      "text/plain": [
       "undefined"
      ]
     },
     "execution_count": 3,
     "metadata": {},
     "output_type": "execute_result"
    }
   ],
   "source": [
    "type PackageDescription = string;"
   ]
  },
  {
   "cell_type": "markdown",
   "metadata": {
    "scrolled": true
   },
   "source": [
    "## keywords\n",
    "\n",
    "Put keywords in it. It’s an array of strings. This helps people discover your package as it’s listed in `npm search`."
   ]
  },
  {
   "cell_type": "code",
   "execution_count": 4,
   "metadata": {},
   "outputs": [
    {
     "data": {
      "text/plain": [
       "undefined"
      ]
     },
     "execution_count": 4,
     "metadata": {},
     "output_type": "execute_result"
    }
   ],
   "source": [
    "type Keywords = string[];"
   ]
  },
  {
   "cell_type": "markdown",
   "metadata": {
    "scrolled": true
   },
   "source": [
    "## homepage\n",
    "\n",
    "The url to the project homepage.\n",
    "\n",
    "Example:\n",
    "\n",
    "    \"homepage\": \"https://github.com/owner/project#readme\"\n",
    "    "
   ]
  },
  {
   "cell_type": "code",
   "execution_count": 5,
   "metadata": {},
   "outputs": [
    {
     "data": {
      "text/plain": [
       "undefined"
      ]
     },
     "execution_count": 5,
     "metadata": {},
     "output_type": "execute_result"
    }
   ],
   "source": [
    "type Homepage = string;"
   ]
  },
  {
   "cell_type": "markdown",
   "metadata": {
    "scrolled": true
   },
   "source": [
    "## bugs\n",
    "\n",
    "The url to your project’s issue tracker and / or the email address to which issues should be reported. These are helpful for people who encounter issues with your package.\n",
    "\n",
    "It should look like this:\n",
    "\n",
    "    { \"url\" : \"https://github.com/owner/project/issues\"\n",
    "    , \"email\" : \"project@hostname.com\"\n",
    "    }\n",
    "    \n",
    "\n",
    "You can specify either one or both values. If you want to provide only a url, you can specify the value for “bugs” as a simple string instead of an object.\n",
    "\n",
    "If a url is provided, it will be used by the `npm bugs` command."
   ]
  },
  {
   "cell_type": "code",
   "execution_count": 6,
   "metadata": {},
   "outputs": [
    {
     "data": {
      "text/plain": [
       "undefined"
      ]
     },
     "execution_count": 6,
     "metadata": {},
     "output_type": "execute_result"
    }
   ],
   "source": [
    "interface Contact {\n",
    "    url: string;\n",
    "    email: string;\n",
    "}\n",
    "\n",
    "type Bugs = Contact | string;"
   ]
  },
  {
   "cell_type": "markdown",
   "metadata": {
    "scrolled": true
   },
   "source": [
    "## license\n",
    "\n",
    "You should specify a license for your package so that people know how they are permitted to use it, and any restrictions you’re placing on it.\n",
    "\n",
    "If you’re using a common license such as BSD-2-Clause or MIT, add a current SPDX license identifier for the license you’re using, like this:\n",
    "\n",
    "    { \"license\" : \"BSD-3-Clause\" }\n",
    "    \n",
    "\n",
    "You can check [the full list of SPDX license IDs](https://spdx.org/licenses/). Ideally you should pick one that is [OSI](https://opensource.org/licenses/alphabetical) approved.\n",
    "\n",
    "If your package is licensed under multiple common licenses, use an [SPDX license expression syntax version 2.0 string](https://www.npmjs.com/package/spdx), like this:\n",
    "\n",
    "    { \"license\" : \"(ISC OR GPL-3.0)\" }\n",
    "    \n",
    "\n",
    "If you are using a license that hasn’t been assigned an SPDX identifier, or if you are using a custom license, use a string value like this one:\n",
    "\n",
    "    { \"license\" : \"SEE LICENSE IN <filename>\" }\n",
    "    \n",
    "\n",
    "Then include a file named `<filename>` at the top level of the package.\n",
    "\n",
    "Some old packages used license objects or a “licenses” property containing an array of license objects:\n",
    "\n",
    "    // Not valid metadata\n",
    "    { \"license\" :\n",
    "      { \"type\" : \"ISC\"\n",
    "      , \"url\" : \"https://opensource.org/licenses/ISC\"\n",
    "      }\n",
    "    }\n",
    "    \n",
    "    // Not valid metadata\n",
    "    { \"licenses\" :\n",
    "      [\n",
    "        { \"type\": \"MIT\"\n",
    "        , \"url\": \"https://www.opensource.org/licenses/mit-license.php\"\n",
    "        }\n",
    "      , { \"type\": \"Apache-2.0\"\n",
    "        , \"url\": \"https://opensource.org/licenses/apache2.0.php\"\n",
    "        }\n",
    "      ]\n",
    "    }\n",
    "    \n",
    "\n",
    "Those styles are now deprecated. Instead, use SPDX expressions, like this:\n",
    "\n",
    "    { \"license\": \"ISC\" }\n",
    "    \n",
    "    { \"license\": \"(MIT OR Apache-2.0)\" }\n",
    "    \n",
    "\n",
    "Finally, if you do not wish to grant others the right to use a private or unpublished package under any terms:\n",
    "\n",
    "    { \"license\": \"UNLICENSED\" }\n",
    "    \n",
    "\n",
    "Consider also setting `\"private\": true` to prevent accidental publication."
   ]
  },
  {
   "cell_type": "code",
   "execution_count": 7,
   "metadata": {},
   "outputs": [
    {
     "data": {
      "text/plain": [
       "undefined"
      ]
     },
     "execution_count": 7,
     "metadata": {},
     "output_type": "execute_result"
    }
   ],
   "source": [
    "type License = string;"
   ]
  },
  {
   "cell_type": "markdown",
   "metadata": {
    "scrolled": true
   },
   "source": [
    "## people fields: author, contributors\n",
    "\n",
    "The “author” is one person. “contributors” is an array of people. A “person” is an object with a “name” field and optionally “url” and “email”, like this:\n",
    "\n",
    "    { \"name\" : \"Barney Rubble\"\n",
    "    , \"email\" : \"b@rubble.com\"\n",
    "    , \"url\" : \"http://barnyrubble.tumblr.com/\"\n",
    "    }\n",
    "    \n",
    "\n",
    "Or you can shorten that all into a single string, and npm will parse it for you:\n",
    "\n",
    "    \"Barney Rubble <b@rubble.com> (http://barnyrubble.tumblr.com/)\"\n",
    "    \n",
    "\n",
    "Both email and url are optional either way.\n",
    "\n",
    "npm also sets a top-level “maintainers” field with your npm user info."
   ]
  },
  {
   "cell_type": "code",
   "execution_count": 8,
   "metadata": {},
   "outputs": [
    {
     "data": {
      "text/plain": [
       "undefined"
      ]
     },
     "execution_count": 8,
     "metadata": {},
     "output_type": "execute_result"
    }
   ],
   "source": [
    "interface Person extends Contact {\n",
    "    name: string;\n",
    "}\n",
    "\n",
    "type Contributor = Person | string;\n",
    "type Author = Contributor;\n",
    "type Contributors = Contributor[];"
   ]
  },
  {
   "cell_type": "markdown",
   "metadata": {
    "scrolled": true
   },
   "source": [
    "## files\n",
    "\n",
    "The optional `files` field is an array of file patterns that describes the entries to be included when your package is installed as a dependency. File patterns follow a similar syntax to `.gitignore`, but reversed: including a file, directory, or glob pattern (`*`, `**/*`, and such) will make it so that file is included in the tarball when it’s packed. Omitting the field will make it default to `[\"*\"]`, which means it will include all files.\n",
    "\n",
    "Some special files and directories are also included or excluded regardless of whether they exist in the `files` array (see below).\n",
    "\n",
    "You can also provide a `.npmignore` file in the root of your package or in subdirectories, which will keep files from being included. At the root of your package it will not override the “files” field, but in subdirectories it will. The `.npmignore` file works just like a `.gitignore`. If there is a `.gitignore` file, and `.npmignore` is missing, `.gitignore`’s contents will be used instead.\n",
    "\n",
    "Files included with the “package.json#files” field _cannot_ be excluded through `.npmignore` or `.gitignore`.\n",
    "\n",
    "Certain files are always included, regardless of settings:\n",
    "\n",
    "*   `package.json`\n",
    "*   `README`\n",
    "*   `CHANGES` / `CHANGELOG` / `HISTORY`\n",
    "*   `LICENSE` / `LICENCE`\n",
    "*   `NOTICE`\n",
    "*   The file in the “main” field\n",
    "\n",
    "`README`, `CHANGES`, `LICENSE` & `NOTICE` can have any case and extension.\n",
    "\n",
    "Conversely, some files are always ignored:\n",
    "\n",
    "*   `.git`\n",
    "*   `CVS`\n",
    "*   `.svn`\n",
    "*   `.hg`\n",
    "*   `.lock-wscript`\n",
    "*   `.wafpickle-N`\n",
    "*   `.*.swp`\n",
    "*   `.DS_Store`\n",
    "*   `._*`\n",
    "*   `npm-debug.log`\n",
    "*   `.npmrc`\n",
    "*   `node_modules`\n",
    "*   `config.gypi`\n",
    "*   `*.orig`\n",
    "*   `package-lock.json` (use shrinkwrap instead)"
   ]
  },
  {
   "cell_type": "code",
   "execution_count": 9,
   "metadata": {},
   "outputs": [
    {
     "data": {
      "text/plain": [
       "undefined"
      ]
     },
     "execution_count": 9,
     "metadata": {},
     "output_type": "execute_result"
    }
   ],
   "source": [
    "type Files = string[];"
   ]
  },
  {
   "cell_type": "markdown",
   "metadata": {
    "scrolled": true
   },
   "source": [
    "## main\n",
    "\n",
    "The main field is a module ID that is the primary entry point to your program. That is, if your package is named `foo`, and a user installs it, and then does `require(\"foo\")`, then your main module’s exports object will be returned.\n",
    "\n",
    "This should be a module ID relative to the root of your package folder.\n",
    "\n",
    "For most modules, it makes the most sense to have a main script and often not much else."
   ]
  },
  {
   "cell_type": "code",
   "execution_count": 10,
   "metadata": {},
   "outputs": [
    {
     "data": {
      "text/plain": [
       "undefined"
      ]
     },
     "execution_count": 10,
     "metadata": {},
     "output_type": "execute_result"
    }
   ],
   "source": [
    "type Main = string;"
   ]
  },
  {
   "cell_type": "markdown",
   "metadata": {
    "scrolled": true
   },
   "source": [
    "## browser\n",
    "\n",
    "If your module is meant to be used client-side the browser field should be used instead of the main field. This is helpful to hint users that it might rely on primitives that aren’t available in Node.js modules. (e.g. `window`)"
   ]
  },
  {
   "cell_type": "code",
   "execution_count": 11,
   "metadata": {},
   "outputs": [
    {
     "data": {
      "text/plain": [
       "undefined"
      ]
     },
     "execution_count": 11,
     "metadata": {},
     "output_type": "execute_result"
    }
   ],
   "source": [
    "type Browser = string;"
   ]
  },
  {
   "cell_type": "markdown",
   "metadata": {
    "scrolled": true
   },
   "source": [
    "## bin\n",
    "\n",
    "A lot of packages have one or more executable files that they’d like to install into the PATH. npm makes this pretty easy (in fact, it uses this feature to install the “npm” executable.)\n",
    "\n",
    "To use this, supply a `bin` field in your package.json which is a map of command name to local file name. On install, npm will symlink that file into `prefix/bin` for global installs, or `./node_modules/.bin/` for local installs.\n",
    "\n",
    "For example, myapp could have this:\n",
    "\n",
    "    { \"bin\" : { \"myapp\" : \"./cli.js\" } }\n",
    "    \n",
    "\n",
    "So, when you install myapp, it’ll create a symlink from the `cli.js` script to `/usr/local/bin/myapp`.\n",
    "\n",
    "If you have a single executable, and its name should be the name of the package, then you can just supply it as a string. For example:\n",
    "\n",
    "    { \"name\": \"my-program\"\n",
    "    , \"version\": \"1.2.5\"\n",
    "    , \"bin\": \"./path/to/program\" }\n",
    "    \n",
    "\n",
    "would be the same as this:\n",
    "\n",
    "    { \"name\": \"my-program\"\n",
    "    , \"version\": \"1.2.5\"\n",
    "    , \"bin\" : { \"my-program\" : \"./path/to/program\" } }\n",
    "    \n",
    "\n",
    "Please make sure that your file(s) referenced in `bin` starts with `#!/usr/bin/env node`, otherwise the scripts are started without the node executable!"
   ]
  },
  {
   "cell_type": "code",
   "execution_count": 12,
   "metadata": {},
   "outputs": [
    {
     "data": {
      "text/plain": [
       "undefined"
      ]
     },
     "execution_count": 12,
     "metadata": {},
     "output_type": "execute_result"
    }
   ],
   "source": [
    "interface Dictionary {\n",
    "    [k: string]: string;\n",
    "}\n",
    "\n",
    "type Bin = Dictionary | string;"
   ]
  },
  {
   "cell_type": "markdown",
   "metadata": {
    "scrolled": true
   },
   "source": [
    "## man\n",
    "\n",
    "Specify either a single file or an array of filenames to put in place for the `man` program to find.\n",
    "\n",
    "If only a single file is provided, then it’s installed such that it is the result from `man <pkgname>`, regardless of its actual filename. For example:\n",
    "\n",
    "    { \"name\" : \"foo\"\n",
    "    , \"version\" : \"1.2.3\"\n",
    "    , \"description\" : \"A packaged foo fooer for fooing foos\"\n",
    "    , \"main\" : \"foo.js\"\n",
    "    , \"man\" : \"./man/doc.1\"\n",
    "    }\n",
    "    \n",
    "\n",
    "would link the `./man/doc.1` file in such that it is the target for `man foo`\n",
    "\n",
    "If the filename doesn’t start with the package name, then it’s prefixed. So, this:\n",
    "\n",
    "    { \"name\" : \"foo\"\n",
    "    , \"version\" : \"1.2.3\"\n",
    "    , \"description\" : \"A packaged foo fooer for fooing foos\"\n",
    "    , \"main\" : \"foo.js\"\n",
    "    , \"man\" : [ \"./man/foo.1\", \"./man/bar.1\" ]\n",
    "    }\n",
    "    \n",
    "\n",
    "will create files to do `man foo` and `man foo-bar`.\n",
    "\n",
    "Man files must end with a number, and optionally a `.gz` suffix if they are compressed. The number dictates which man section the file is installed into.\n",
    "\n",
    "    { \"name\" : \"foo\"\n",
    "    , \"version\" : \"1.2.3\"\n",
    "    , \"description\" : \"A packaged foo fooer for fooing foos\"\n",
    "    , \"main\" : \"foo.js\"\n",
    "    , \"man\" : [ \"./man/foo.1\", \"./man/foo.2\" ]\n",
    "    }\n",
    "    \n",
    "\n",
    "will create entries for `man foo` and `man 2 foo`"
   ]
  },
  {
   "cell_type": "code",
   "execution_count": 13,
   "metadata": {},
   "outputs": [
    {
     "data": {
      "text/plain": [
       "undefined"
      ]
     },
     "execution_count": 13,
     "metadata": {},
     "output_type": "execute_result"
    }
   ],
   "source": [
    "type Man = string[] | string;"
   ]
  },
  {
   "cell_type": "markdown",
   "metadata": {
    "scrolled": true
   },
   "source": [
    "## directories\n",
    "\n",
    "The CommonJS [Packages](http://wiki.commonjs.org/wiki/Packages/1.0) spec details a few ways that you can indicate the structure of your package using a `directories` object. If you look at [npm’s package.json](https://registry.npmjs.org/npm/latest), you’ll see that it has directories for doc, lib, and man.\n",
    "\n",
    "In the future, this information may be used in other creative ways.\n",
    "\n",
    "### directories.lib\n",
    "\n",
    "Tell people where the bulk of your library is. Nothing special is done with the lib folder in any way, but it’s useful meta info.\n",
    "\n",
    "### directories.bin\n",
    "\n",
    "If you specify a `bin` directory in `directories.bin`, all the files in that folder will be added.\n",
    "\n",
    "Because of the way the `bin` directive works, specifying both a `bin` path and setting `directories.bin` is an error. If you want to specify individual files, use `bin`, and for all the files in an existing `bin` directory, use `directories.bin`.\n",
    "\n",
    "### directories.man\n",
    "\n",
    "A folder that is full of man pages. Sugar to generate a “man” array by walking the folder.\n",
    "\n",
    "### directories.doc\n",
    "\n",
    "Put markdown files in here. Eventually, these will be displayed nicely, maybe, someday.\n",
    "\n",
    "### directories.example\n",
    "\n",
    "Put example scripts in here. Someday, it might be exposed in some clever way.\n",
    "\n",
    "### directories.test\n",
    "\n",
    "Put your tests in here. It is currently not exposed, but it might be in the future."
   ]
  },
  {
   "cell_type": "code",
   "execution_count": 14,
   "metadata": {},
   "outputs": [
    {
     "data": {
      "text/plain": [
       "undefined"
      ]
     },
     "execution_count": 14,
     "metadata": {},
     "output_type": "execute_result"
    }
   ],
   "source": [
    "interface Directories {\n",
    "    lib: string;\n",
    "    bin: string;\n",
    "    man: string;\n",
    "    doc: string;\n",
    "    example: string;\n",
    "    test: string;\n",
    "}"
   ]
  },
  {
   "cell_type": "markdown",
   "metadata": {
    "scrolled": true
   },
   "source": [
    "## repository\n",
    "\n",
    "Specify the place where your code lives. This is helpful for people who want to contribute. If the git repo is on GitHub, then the `npm docs` command will be able to find you.\n",
    "\n",
    "Do it like this:\n",
    "\n",
    "    \"repository\": {\n",
    "      \"type\" : \"git\",\n",
    "      \"url\" : \"https://github.com/npm/cli.git\"\n",
    "    }\n",
    "    \n",
    "    \"repository\": {\n",
    "      \"type\" : \"svn\",\n",
    "      \"url\" : \"https://v8.googlecode.com/svn/trunk/\"\n",
    "    }\n",
    "    \n",
    "\n",
    "The URL should be a publicly available (perhaps read-only) url that can be handed directly to a VCS program without any modification. It should not be a url to an html project page that you put in your browser. It’s for computers.\n",
    "\n",
    "For GitHub, GitHub gist, Bitbucket, or GitLab repositories you can use the same shortcut syntax you use for `npm install`:\n",
    "\n",
    "    \"repository\": \"npm/npm\"\n",
    "    \n",
    "    \"repository\": \"github:user/repo\"\n",
    "    \n",
    "    \"repository\": \"gist:11081aaa281\"\n",
    "    \n",
    "    \"repository\": \"bitbucket:user/repo\"\n",
    "    \n",
    "    \"repository\": \"gitlab:user/repo\"\n",
    "    \n",
    "\n",
    "If the `package.json` for your package is not in the root directory (for example if it is part of a monorepo), you can specify the directory in which it lives:\n",
    "\n",
    "    \"repository\": {\n",
    "      \"type\" : \"git\",\n",
    "      \"url\" : \"https://github.com/facebook/react.git\",\n",
    "      \"directory\": \"packages/react-dom\"\n",
    "    }\n",
    "    "
   ]
  },
  {
   "cell_type": "code",
   "execution_count": 15,
   "metadata": {},
   "outputs": [
    {
     "data": {
      "text/plain": [
       "undefined"
      ]
     },
     "execution_count": 15,
     "metadata": {},
     "output_type": "execute_result"
    }
   ],
   "source": [
    "interface Repo {\n",
    "    type: string;\n",
    "    url: string;\n",
    "    directory: string;\n",
    "}\n",
    "\n",
    "type Repository = Repo | string;"
   ]
  },
  {
   "cell_type": "markdown",
   "metadata": {
    "scrolled": true
   },
   "source": [
    "## scripts\n",
    "\n",
    "The “scripts” property is a dictionary containing script commands that are run at various times in the lifecycle of your package. The key is the lifecycle event, and the value is the command to run at that point.\n",
    "\n",
    "See [npm-scripts](https://docs.npmjs.com/misc/scripts) to find out more about writing package scripts."
   ]
  },
  {
   "cell_type": "code",
   "execution_count": 16,
   "metadata": {},
   "outputs": [
    {
     "data": {
      "text/plain": [
       "undefined"
      ]
     },
     "execution_count": 16,
     "metadata": {},
     "output_type": "execute_result"
    }
   ],
   "source": [
    "type Scripts = Dictionary;"
   ]
  },
  {
   "cell_type": "markdown",
   "metadata": {
    "scrolled": true
   },
   "source": [
    "## config\n",
    "\n",
    "A “config” object can be used to set configuration parameters used in package scripts that persist across upgrades. For instance, if a package had the following:\n",
    "\n",
    "    { \"name\" : \"foo\"\n",
    "    , \"config\" : { \"port\" : \"8080\" } }\n",
    "    \n",
    "\n",
    "and then had a “start” command that then referenced the `npm_package_config_port` environment variable, then the user could override that by doing `npm config set foo:port 8001`.\n",
    "\n",
    "See [npm-config](https://docs.npmjs.com/misc/config) and [npm-scripts](https://docs.npmjs.com/misc/scripts) for more on package configs."
   ]
  },
  {
   "cell_type": "code",
   "execution_count": 17,
   "metadata": {},
   "outputs": [
    {
     "data": {
      "text/plain": [
       "undefined"
      ]
     },
     "execution_count": 17,
     "metadata": {},
     "output_type": "execute_result"
    }
   ],
   "source": [
    "interface Config {\n",
    "    [k: string]: any;\n",
    "}"
   ]
  },
  {
   "cell_type": "markdown",
   "metadata": {
    "scrolled": true
   },
   "source": [
    "## dependencies\n",
    "\n",
    "Dependencies are specified in a simple object that maps a package name to a version range. The version range is a string which has one or more space-separated descriptors. Dependencies can also be identified with a tarball or git URL.\n",
    "\n",
    "**Please do not put test harnesses or transpilers in your `dependencies` object.** See `devDependencies`, below.\n",
    "\n",
    "See [semver](https://docs.npmjs.com/misc/semver) for more details about specifying version ranges.\n",
    "\n",
    "*   `version` Must match `version` exactly\n",
    "*   `>version` Must be greater than `version`\n",
    "*   `>=version` etc\n",
    "*   `<version`\n",
    "*   `<=version`\n",
    "*   `~version` “Approximately equivalent to version” See [semver](https://docs.npmjs.com/misc/semver)\n",
    "*   `^version` “Compatible with version” See [semver](https://docs.npmjs.com/misc/semver)\n",
    "*   `1.2.x` 1.2.0, 1.2.1, etc., but not 1.3.0\n",
    "*   `http://...` See ‘URLs as Dependencies’ below\n",
    "*   `*` Matches any version\n",
    "*   `\"\"` (just an empty string) Same as `*`\n",
    "*   `version1 - version2` Same as `>=version1 <=version2`.\n",
    "*   `range1 || range2` Passes if either range1 or range2 are satisfied.\n",
    "*   `git...` See ‘Git URLs as Dependencies’ below\n",
    "*   `user/repo` See ‘GitHub URLs’ below\n",
    "*   `tag` A specific version tagged and published as `tag` See [npm-dist-tag](https://docs.npmjs.com/cli/dist-tag)\n",
    "*   `path/path/path` See [Local Paths](#local-paths) below\n",
    "\n",
    "For example, these are all valid:\n",
    "\n",
    "    { \"dependencies\" :\n",
    "      { \"foo\" : \"1.0.0 - 2.9999.9999\"\n",
    "      , \"bar\" : \">=1.0.2 <2.1.2\"\n",
    "      , \"baz\" : \">1.0.2 <=2.3.4\"\n",
    "      , \"boo\" : \"2.0.1\"\n",
    "      , \"qux\" : \"<1.0.0 || >=2.3.1 <2.4.5 || >=2.5.2 <3.0.0\"\n",
    "      , \"asd\" : \"http://asdf.com/asdf.tar.gz\"\n",
    "      , \"til\" : \"~1.2\"\n",
    "      , \"elf\" : \"~1.2.3\"\n",
    "      , \"two\" : \"2.x\"\n",
    "      , \"thr\" : \"3.3.x\"\n",
    "      , \"lat\" : \"latest\"\n",
    "      , \"dyl\" : \"file:../dyl\"\n",
    "      }\n",
    "    }\n",
    "    \n",
    "\n",
    "### URLs as Dependencies\n",
    "\n",
    "You may specify a tarball URL in place of a version range.\n",
    "\n",
    "This tarball will be downloaded and installed locally to your package at install time.\n",
    "\n",
    "### Git URLs as Dependencies\n",
    "\n",
    "Git urls are of the form:\n",
    "\n",
    "    <protocol>://[<user>[:<password>]@]<hostname>[:<port>][:][/]<path>[#<commit-ish> | #semver:<semver>]\n",
    "    \n",
    "\n",
    "`<protocol>` is one of `git`, `git+ssh`, `git+http`, `git+https`, or `git+file`.\n",
    "\n",
    "If `#<commit-ish>` is provided, it will be used to clone exactly that commit. If the commit-ish has the format `#semver:<semver>`, `<semver>` can be any valid semver range or exact version, and npm will look for any tags or refs matching that range in the remote repository, much as it would for a registry dependency. If neither `#<commit-ish>` or `#semver:<semver>` is specified, then `master` is used.\n",
    "\n",
    "Examples:\n",
    "\n",
    "    git+ssh://git@github.com:npm/cli.git#v1.0.27\n",
    "    git+ssh://git@github.com:npm/cli#semver:^5.0\n",
    "    git+https://isaacs@github.com/npm/cli.git\n",
    "    git://github.com/npm/cli.git#v1.0.27\n",
    "    \n",
    "\n",
    "### GitHub URLs\n",
    "\n",
    "As of version 1.1.65, you can refer to GitHub urls as just “foo”: “user/foo-project”. Just as with git URLs, a `commit-ish` suffix can be included. For example:\n",
    "\n",
    "    {\n",
    "      \"name\": \"foo\",\n",
    "      \"version\": \"0.0.0\",\n",
    "      \"dependencies\": {\n",
    "        \"express\": \"expressjs/express\",\n",
    "        \"mocha\": \"mochajs/mocha#4727d357ea\",\n",
    "        \"module\": \"user/repo#feature/branch\"\n",
    "      }\n",
    "    }\n",
    "    \n",
    "\n",
    "### Local Paths\n",
    "\n",
    "As of version 2.0.0 you can provide a path to a local directory that contains a package. Local paths can be saved using `npm install -S` or `npm install --save`, using any of these forms:\n",
    "\n",
    "    ../foo/bar\n",
    "    ~/foo/bar\n",
    "    ./foo/bar\n",
    "    /foo/bar\n",
    "    \n",
    "\n",
    "in which case they will be normalized to a relative path and added to your `package.json`. For example:\n",
    "\n",
    "    {\n",
    "      \"name\": \"baz\",\n",
    "      \"dependencies\": {\n",
    "        \"bar\": \"file:../foo/bar\"\n",
    "      }\n",
    "    }\n",
    "    \n",
    "\n",
    "This feature is helpful for local offline development and creating tests that require npm installing where you don’t want to hit an external server, but should not be used when publishing packages to the public registry."
   ]
  },
  {
   "cell_type": "code",
   "execution_count": 18,
   "metadata": {},
   "outputs": [
    {
     "data": {
      "text/plain": [
       "undefined"
      ]
     },
     "execution_count": 18,
     "metadata": {},
     "output_type": "execute_result"
    }
   ],
   "source": [
    "type Dependencies = Dictionary;"
   ]
  },
  {
   "cell_type": "markdown",
   "metadata": {
    "scrolled": true
   },
   "source": [
    "## devDependencies\n",
    "\n",
    "If someone is planning on downloading and using your module in their program, then they probably don’t want or need to download and build the external test or documentation framework that you use.\n",
    "\n",
    "In this case, it’s best to map these additional items in a `devDependencies` object.\n",
    "\n",
    "These things will be installed when doing `npm link` or `npm install` from the root of a package, and can be managed like any other npm configuration param. See [npm-config](https://docs.npmjs.com/misc/config) for more on the topic.\n",
    "\n",
    "For build steps that are not platform-specific, such as compiling CoffeeScript or other languages to JavaScript, use the `prepare` script to do this, and make the required package a devDependency.\n",
    "\n",
    "For example:\n",
    "\n",
    "    { \"name\": \"ethopia-waza\",\n",
    "      \"description\": \"a delightfully fruity coffee varietal\",\n",
    "      \"version\": \"1.2.3\",\n",
    "      \"devDependencies\": {\n",
    "        \"coffee-script\": \"~1.6.3\"\n",
    "      },\n",
    "      \"scripts\": {\n",
    "        \"prepare\": \"coffee -o lib/ -c src/waza.coffee\"\n",
    "      },\n",
    "      \"main\": \"lib/waza.js\"\n",
    "    }\n",
    "    \n",
    "\n",
    "The `prepare` script will be run before publishing, so that users can consume the functionality without requiring them to compile it themselves. In dev mode (ie, locally running `npm install`), it’ll run this script as well, so that you can test it easily."
   ]
  },
  {
   "cell_type": "code",
   "execution_count": 19,
   "metadata": {},
   "outputs": [
    {
     "data": {
      "text/plain": [
       "undefined"
      ]
     },
     "execution_count": 19,
     "metadata": {},
     "output_type": "execute_result"
    }
   ],
   "source": [
    "type DevDependencies = Dependencies;"
   ]
  },
  {
   "cell_type": "markdown",
   "metadata": {
    "scrolled": true
   },
   "source": [
    "## peerDependencies\n",
    "\n",
    "In some cases, you want to express the compatibility of your package with a host tool or library, while not necessarily doing a `require` of this host. This is usually referred to as a _plugin_. Notably, your module may be exposing a specific interface, expected and specified by the host documentation.\n",
    "\n",
    "For example:\n",
    "\n",
    "    {\n",
    "      \"name\": \"tea-latte\",\n",
    "      \"version\": \"1.3.5\",\n",
    "      \"peerDependencies\": {\n",
    "        \"tea\": \"2.x\"\n",
    "      }\n",
    "    }\n",
    "    \n",
    "\n",
    "This ensures your package `tea-latte` can be installed _along_ with the second major version of the host package `tea` only. `npm install tea-latte` could possibly yield the following dependency graph:\n",
    "\n",
    "    ├── tea-latte@1.3.5\n",
    "    └── tea@2.2.0\n",
    "    \n",
    "\n",
    "**NOTE: npm versions 1 and 2 will automatically install `peerDependencies` if they are not explicitly depended upon higher in the dependency tree. In the next major version of npm (npm@3), this will no longer be the case. You will receive a warning that the peerDependency is not installed instead.** The behavior in npms 1 & 2 was frequently confusing and could easily put you into dependency hell, a situation that npm is designed to avoid as much as possible.\n",
    "\n",
    "Trying to install another plugin with a conflicting requirement will cause an error. For this reason, make sure your plugin requirement is as broad as possible, and not to lock it down to specific patch versions.\n",
    "\n",
    "Assuming the host complies with [semver](https://semver.org/), only changes in the host package’s major version will break your plugin. Thus, if you’ve worked with every 1.x version of the host package, use `\"^1.0\"` or `\"1.x\"` to express this. If you depend on features introduced in 1.5.2, use `\">= 1.5.2 < 2\"`."
   ]
  },
  {
   "cell_type": "code",
   "execution_count": 20,
   "metadata": {},
   "outputs": [
    {
     "data": {
      "text/plain": [
       "undefined"
      ]
     },
     "execution_count": 20,
     "metadata": {},
     "output_type": "execute_result"
    }
   ],
   "source": [
    "type PeerDependencies = Dependencies;"
   ]
  },
  {
   "cell_type": "markdown",
   "metadata": {
    "scrolled": true
   },
   "source": [
    "## bundledDependencies\n",
    "\n",
    "This defines an array of package names that will be bundled when publishing the package.\n",
    "\n",
    "In cases where you need to preserve npm packages locally or have them available through a single file download, you can bundle the packages in a tarball file by specifying the package names in the `bundledDependencies` array and executing `npm pack`.\n",
    "\n",
    "For example:\n",
    "\n",
    "If we define a package.json like this:\n",
    "\n",
    "    {\n",
    "      \"name\": \"awesome-web-framework\",\n",
    "      \"version\": \"1.0.0\",\n",
    "      \"bundledDependencies\": [\n",
    "        \"renderized\", \"super-streams\"\n",
    "      ]\n",
    "    }\n",
    "    \n",
    "\n",
    "we can obtain `awesome-web-framework-1.0.0.tgz` file by running `npm pack`. This file contains the dependencies `renderized` and `super-streams` which can be installed in a new project by executing `npm install awesome-web-framework-1.0.0.tgz`.\n",
    "\n",
    "If this is spelled `\"bundleDependencies\"`, then that is also honored."
   ]
  },
  {
   "cell_type": "code",
   "execution_count": 21,
   "metadata": {},
   "outputs": [
    {
     "data": {
      "text/plain": [
       "undefined"
      ]
     },
     "execution_count": 21,
     "metadata": {},
     "output_type": "execute_result"
    }
   ],
   "source": [
    "type BundledDependencies = Dependencies;"
   ]
  },
  {
   "cell_type": "markdown",
   "metadata": {
    "scrolled": true
   },
   "source": [
    "## optionalDependencies\n",
    "\n",
    "If a dependency can be used, but you would like npm to proceed if it cannot be found or fails to install, then you may put it in the `optionalDependencies` object. This is a map of package name to version or url, just like the `dependencies` object. The difference is that build failures do not cause installation to fail.\n",
    "\n",
    "It is still your program’s responsibility to handle the lack of the dependency. For example, something like this:\n",
    "\n",
    "    try {\n",
    "      var foo = require('foo')\n",
    "      var fooVersion = require('foo/package.json').version\n",
    "    } catch (er) {\n",
    "      foo = null\n",
    "    }\n",
    "    if ( notGoodFooVersion(fooVersion) ) {\n",
    "      foo = null\n",
    "    }\n",
    "    \n",
    "    // .. then later in your program ..\n",
    "    \n",
    "    if (foo) {\n",
    "      foo.doFooThings()\n",
    "    }\n",
    "    \n",
    "\n",
    "Entries in `optionalDependencies` will override entries of the same name in `dependencies`, so it’s usually best to only put in one place."
   ]
  },
  {
   "cell_type": "code",
   "execution_count": 22,
   "metadata": {},
   "outputs": [
    {
     "data": {
      "text/plain": [
       "undefined"
      ]
     },
     "execution_count": 22,
     "metadata": {},
     "output_type": "execute_result"
    }
   ],
   "source": [
    "type OptionalDependencies = Dependencies;"
   ]
  },
  {
   "cell_type": "markdown",
   "metadata": {
    "scrolled": true
   },
   "source": [
    "## engines\n",
    "\n",
    "You can specify the version of node that your stuff works on:\n",
    "\n",
    "    { \"engines\" : { \"node\" : \">=0.10.3 <0.12\" } }\n",
    "    \n",
    "\n",
    "And, like with dependencies, if you don’t specify the version (or if you specify “\\*” as the version), then any version of node will do.\n",
    "\n",
    "If you specify an “engines” field, then npm will require that “node” be somewhere on that list. If “engines” is omitted, then npm will just assume that it works on node.\n",
    "\n",
    "You can also use the “engines” field to specify which versions of npm are capable of properly installing your program. For example:\n",
    "\n",
    "    { \"engines\" : { \"npm\" : \"~1.0.20\" } }\n",
    "    \n",
    "\n",
    "Unless the user has set the `engine-strict` config flag, this field is advisory only and will only produce warnings when your package is installed as a dependency."
   ]
  },
  {
   "cell_type": "code",
   "execution_count": 23,
   "metadata": {},
   "outputs": [
    {
     "data": {
      "text/plain": [
       "undefined"
      ]
     },
     "execution_count": 23,
     "metadata": {},
     "output_type": "execute_result"
    }
   ],
   "source": [
    "interface Engines {\n",
    "    node: string;\n",
    "    npm: string;\n",
    "}"
   ]
  },
  {
   "cell_type": "markdown",
   "metadata": {
    "scrolled": true
   },
   "source": [
    "## engineStrict\n",
    "\n",
    "**This feature was removed in npm 3.0.0**\n",
    "\n",
    "Prior to npm 3.0.0, this feature was used to treat this package as if the user had set `engine-strict`. It is no longer used."
   ]
  },
  {
   "cell_type": "markdown",
   "metadata": {
    "scrolled": true
   },
   "source": [
    "## os\n",
    "\n",
    "You can specify which operating systems your module will run on:\n",
    "\n",
    "    \"os\" : [ \"darwin\", \"linux\" ]\n",
    "    \n",
    "\n",
    "You can also blacklist instead of whitelist operating systems, just prepend the blacklisted os with a ‘!’:\n",
    "\n",
    "    \"os\" : [ \"!win32\" ]\n",
    "    \n",
    "\n",
    "The host operating system is determined by `process.platform`\n",
    "\n",
    "It is allowed to both blacklist, and whitelist, although there isn’t any good reason to do this."
   ]
  },
  {
   "cell_type": "code",
   "execution_count": 24,
   "metadata": {},
   "outputs": [
    {
     "data": {
      "text/plain": [
       "undefined"
      ]
     },
     "execution_count": 24,
     "metadata": {},
     "output_type": "execute_result"
    }
   ],
   "source": [
    "type Os = string[];"
   ]
  },
  {
   "cell_type": "markdown",
   "metadata": {
    "scrolled": true
   },
   "source": [
    "## cpu\n",
    "\n",
    "If your code only runs on certain cpu architectures, you can specify which ones.\n",
    "\n",
    "    \"cpu\" : [ \"x64\", \"ia32\" ]\n",
    "    \n",
    "\n",
    "Like the `os` option, you can also blacklist architectures:\n",
    "\n",
    "    \"cpu\" : [ \"!arm\", \"!mips\" ]\n",
    "    \n",
    "\n",
    "The host architecture is determined by `process.arch`"
   ]
  },
  {
   "cell_type": "code",
   "execution_count": 25,
   "metadata": {},
   "outputs": [
    {
     "data": {
      "text/plain": [
       "undefined"
      ]
     },
     "execution_count": 25,
     "metadata": {},
     "output_type": "execute_result"
    }
   ],
   "source": [
    "type Cpu = string[];"
   ]
  },
  {
   "cell_type": "markdown",
   "metadata": {
    "scrolled": true
   },
   "source": [
    "## preferGlobal\n",
    "\n",
    "**DEPRECATED**\n",
    "\n",
    "This option used to trigger an npm warning, but it will no longer warn. It is purely there for informational purposes. It is now recommended that you install any binaries as local devDependencies wherever possible."
   ]
  },
  {
   "cell_type": "markdown",
   "metadata": {
    "scrolled": true
   },
   "source": [
    "## private\n",
    "\n",
    "If you set `\"private\": true` in your package.json, then npm will refuse to publish it.\n",
    "\n",
    "This is a way to prevent accidental publication of private repositories. If you would like to ensure that a given package is only ever published to a specific registry (for example, an internal registry), then use the `publishConfig` dictionary described below to override the `registry` config param at publish-time."
   ]
  },
  {
   "cell_type": "code",
   "execution_count": 26,
   "metadata": {},
   "outputs": [
    {
     "data": {
      "text/plain": [
       "undefined"
      ]
     },
     "execution_count": 26,
     "metadata": {},
     "output_type": "execute_result"
    }
   ],
   "source": [
    "type Private = true;"
   ]
  },
  {
   "cell_type": "markdown",
   "metadata": {
    "scrolled": true
   },
   "source": [
    "## publishConfig\n",
    "\n",
    "This is a set of config values that will be used at publish-time. It’s especially handy if you want to set the tag, registry or access, so that you can ensure that a given package is not tagged with “latest”, published to the global public registry or that a scoped module is private by default.\n",
    "\n",
    "Any config values can be overridden, but only “tag”, “registry” and “access” probably matter for the purposes of publishing.\n",
    "\n",
    "See [npm-config](https://docs.npmjs.com/misc/config) to see the list of config options that can be overridden."
   ]
  },
  {
   "cell_type": "code",
   "execution_count": 27,
   "metadata": {},
   "outputs": [
    {
     "data": {
      "text/plain": [
       "undefined"
      ]
     },
     "execution_count": 27,
     "metadata": {},
     "output_type": "execute_result"
    }
   ],
   "source": [
    "interface PublishConfig {\n",
    "    tag: string;\n",
    "    registry: string;\n",
    "    access: string;\n",
    "}"
   ]
  },
  {
   "cell_type": "markdown",
   "metadata": {
    "scrolled": true
   },
   "source": [
    "## DEFAULT VALUES\n",
    "\n",
    "npm will default some values based on package contents.\n",
    "\n",
    "*   `\"scripts\": {\"start\": \"node server.js\"}`\n",
    "    \n",
    "    If there is a `server.js` file in the root of your package, then npm will default the `start` command to `node server.js`.\n",
    "    \n",
    "*   `\"scripts\":{\"install\": \"node-gyp rebuild\"}`\n",
    "    \n",
    "    If there is a `binding.gyp` file in the root of your package and you have not defined an `install` or `preinstall` script, npm will default the `install` command to compile using node-gyp.\n",
    "    \n",
    "*   `\"contributors\": [...]`\n",
    "    \n",
    "    If there is an `AUTHORS` file in the root of your package, npm will treat each line as a `Name <email> (url)` format, where email and url are optional. Lines which start with a `#` or are blank, will be ignored."
   ]
  },
  {
   "cell_type": "code",
   "execution_count": null,
   "metadata": {},
   "outputs": [],
   "source": [
    "interface PackageJson {\n",
    "    name: PackageName;\n",
    "    version: PackageVersion;\n",
    "    description: PackageDescription;\n",
    "    keywords: Keywords;\n",
    "    homepage?: Homepage;\n",
    "    bugs: Bugs;\n",
    "    license: License;\n",
    "    author: Author;\n",
    "    contributors?: Contributors;\n",
    "    files: Files;\n",
    "    main: Main;\n",
    "    browser?: Browser;\n",
    "    bin?: Bin;\n",
    "    man?: Man;\n",
    "    directories?: Directories;\n",
    "    repository: Repository;\n",
    "    scripts: Scripts;\n",
    "    config?: Config;\n",
    "    dependencies: Dependencies;\n",
    "    devDependencies: DevDependencies;\n",
    "    peerDependencies?: PeerDependencies;\n",
    "    bundledDependencies?: BundledDependencies;\n",
    "    optionalDependencies?: OptionalDependencies;\n",
    "    engines?: Engines;\n",
    "    os?: Os;\n",
    "    cpu?: Cpu;\n",
    "    private?: Private;\n",
    "    publishConfig?: PublishConfig;\n",
    "}"
   ]
  }
 ],
 "metadata": {
  "kernelspec": {
   "display_name": "Typescript 3.4",
   "language": "typescript",
   "name": "typescript"
  },
  "language_info": {
   "file_extension": ".ts",
   "mimetype": "application/x-typescript",
   "name": "typescript",
   "version": "3.4.5"
  }
 },
 "nbformat": 4,
 "nbformat_minor": 2
}
